{
  "nbformat": 4,
  "nbformat_minor": 0,
  "metadata": {
    "colab": {
      "provenance": [],
      "authorship_tag": "ABX9TyPeTBVtRYMNbu9u82JJj54s",
      "include_colab_link": true
    },
    "kernelspec": {
      "name": "python3",
      "display_name": "Python 3"
    },
    "language_info": {
      "name": "python"
    }
  },
  "cells": [
    {
      "cell_type": "markdown",
      "metadata": {
        "id": "view-in-github",
        "colab_type": "text"
      },
      "source": [
        "<a href=\"https://colab.research.google.com/github/Sruthij93/Market-Anomaly-Detection/blob/main/Market_Anomaly_Milestone2.ipynb\" target=\"_parent\"><img src=\"https://colab.research.google.com/assets/colab-badge.svg\" alt=\"Open In Colab\"/></a>"
      ]
    },
    {
      "cell_type": "code",
      "source": [
        "import pandas as pd\n",
        "import numpy as np\n",
        "import pickle\n",
        "import shap\n",
        "import pickle\n",
        "from sklearn.model_selection import train_test_split\n",
        "from sklearn.linear_model import LogisticRegression\n",
        "from sklearn.ensemble import IsolationForest\n",
        "from imblearn.over_sampling import SMOTE\n",
        "from sklearn.metrics import classification_report, accuracy_score\n",
        "from sklearn.preprocessing import StandardScaler\n",
        "from sklearn.decomposition import PCA\n",
        "import matplotlib.pyplot as plt\n",
        "import seaborn as sns"
      ],
      "metadata": {
        "id": "LOGZwIq6W-nL"
      },
      "execution_count": 1,
      "outputs": []
    },
    {
      "cell_type": "code",
      "source": [
        "import xgboost as xgb\n",
        "from sklearn.model_selection import GridSearchCV"
      ],
      "metadata": {
        "id": "GjNe0eYeXcbL"
      },
      "execution_count": 2,
      "outputs": []
    },
    {
      "cell_type": "code",
      "source": [
        "from sklearn.metrics import roc_auc_score, roc_curve, auc\n",
        "from sklearn.ensemble import VotingClassifier\n",
        "from sklearn.svm import SVC\n",
        "from sklearn.ensemble import RandomForestClassifier"
      ],
      "metadata": {
        "id": "i3SuWQFRXKJ6"
      },
      "execution_count": 3,
      "outputs": []
    },
    {
      "cell_type": "code",
      "source": [
        "!git clone https://github.com/Sruthij93/Market-Anomaly-Detection"
      ],
      "metadata": {
        "colab": {
          "base_uri": "https://localhost:8080/"
        },
        "id": "umNc07l3LPCl",
        "outputId": "ec3734ab-0201-4c06-98b7-a40cec74a9b1"
      },
      "execution_count": 4,
      "outputs": [
        {
          "output_type": "stream",
          "name": "stdout",
          "text": [
            "Cloning into 'Market-Anomaly-Detection'...\n",
            "remote: Enumerating objects: 113, done.\u001b[K\n",
            "remote: Counting objects: 100% (113/113), done.\u001b[K\n",
            "remote: Compressing objects: 100% (91/91), done.\u001b[K\n",
            "remote: Total 113 (delta 55), reused 58 (delta 20), pack-reused 0 (from 0)\u001b[K\n",
            "Receiving objects: 100% (113/113), 10.54 MiB | 10.86 MiB/s, done.\n",
            "Resolving deltas: 100% (55/55), done.\n"
          ]
        }
      ]
    },
    {
      "cell_type": "code",
      "source": [
        "%cd /content/Market-Anomaly-Detection"
      ],
      "metadata": {
        "colab": {
          "base_uri": "https://localhost:8080/"
        },
        "id": "5D2NgpMwLTYu",
        "outputId": "ccfad5fa-0750-466d-e2e8-98b175ee9b29"
      },
      "execution_count": 5,
      "outputs": [
        {
          "output_type": "stream",
          "name": "stdout",
          "text": [
            "/content/Market-Anomaly-Detection\n"
          ]
        }
      ]
    },
    {
      "cell_type": "code",
      "execution_count": 6,
      "metadata": {
        "id": "WIlgz0kkWUF1"
      },
      "outputs": [],
      "source": [
        "sim_data = pd.read_csv('/content/Market-Anomaly-Detection/sim_financial_data.csv')"
      ]
    },
    {
      "cell_type": "code",
      "source": [
        "sim_data.shape"
      ],
      "metadata": {
        "colab": {
          "base_uri": "https://localhost:8080/"
        },
        "id": "Y3PhQ2yws5p0",
        "outputId": "95832c6d-a4b8-4ba7-b54f-67a2bbf58f3f"
      },
      "execution_count": 7,
      "outputs": [
        {
          "output_type": "execute_result",
          "data": {
            "text/plain": [
              "(1097, 15)"
            ]
          },
          "metadata": {},
          "execution_count": 7
        }
      ]
    },
    {
      "cell_type": "code",
      "source": [
        "# Clean the test data and conduct preprocessing\n",
        "\n",
        "def data_cleaning(test_df):\n",
        "\n",
        "  model_features = ['XAU BGNL', 'BDIY', 'CRY', 'DXY', 'VIX', 'USGG30YR', 'GT10', 'EONIA', 'GTITL30YR', 'GTJPY30YR', 'LP01TREU', 'MXUS', 'MXEU', 'MXIN']\n",
        "  # 'GC=F', ^VIX, ^TYX, ^XDE,\n",
        "\n",
        "  # Drop any extra columns not in the model features\n",
        "  test_df = test_df.loc[:, test_df.columns.intersection(model_features)]\n",
        "\n",
        "\n",
        "  # Add missing columns with default value\n",
        "  missing_columns = [col for col in model_features if col not in test_df.columns]\n",
        "\n",
        "  for col in missing_columns:\n",
        "      test_df[col] = 0\n",
        "\n",
        "  # Reorder columns to match model's feature order\n",
        "  test_df = test_df[model_features]\n",
        "\n",
        "  # Remove the date column\n",
        "  if 'Date' in test_df.columns:\n",
        "    test_df = test_df.drop(columns = ['Date'])\n",
        "\n",
        "  # Add additional columns of moving averages and simple moving averages\n",
        "  test_df['VIX_EMA'] = test_df['VIX'].ewm(span=50, adjust=False).mean()\n",
        "  test_df['BDIY_EMA'] = test_df['BDIY'].ewm(span=50, adjust=False).mean()\n",
        "  test_df['DXY_EMA'] = test_df['DXY'].ewm(span=50, adjust=False).mean()\n",
        "  test_df['VIX_MA'] = test_df['VIX'].rolling(window=50).mean()\n",
        "  test_df['BDIY_MA'] = test_df['BDIY'].rolling(window=50).mean()\n",
        "\n",
        "  test_df['VIX_MA'] = test_df['VIX_MA'].fillna(test_df['VIX'])\n",
        "  test_df['BDIY_MA'] = test_df['BDIY_MA'].fillna(test_df['BDIY'])\n",
        "\n",
        "  return test_df\n",
        "\n",
        "\n",
        "def data_preprocessing(test_df, model):\n",
        "\n",
        "  test_df = data_cleaning(test_df)\n",
        "\n",
        "  # Load the scaler saved in pickle file\n",
        "  with open('/content/Market-Anomaly-Detection/data_preprocessors/scaler.pkl', 'rb') as file:\n",
        "    scaler = pickle.load(file)\n",
        "\n",
        "  # Scale the data\n",
        "  test_df_scaled = scaler.fit_transform(test_df)\n",
        "\n",
        "  if model == 'isolation_forest':\n",
        "    # Load the PCA saved in pickle file\n",
        "    with open('/content/Market-Anomaly-Detection/data_preprocessors/pca_isoforest.pkl', 'rb') as file:\n",
        "      pca = pickle.load(file)\n",
        "  else:\n",
        "    # Load PCA\n",
        "    with open('/content/Market-Anomaly-Detection/data_preprocessors/pca.pkl', 'rb') as file:\n",
        "      pca = pickle.load(file)\n",
        "\n",
        "  # Apply PCA\n",
        "  test_df_pca = pca.transform(test_df_scaled)\n",
        "\n",
        "  # Adding raw features(scaled) for better performance\n",
        "  test_df_columns = {name: index for index, name in enumerate(test_df.columns)}\n",
        "  selected_columns = ['VIX', 'VIX_EMA', 'BDIY_EMA', 'DXY_EMA', 'VIX_MA', 'BDIY_MA']\n",
        "  selected_columns_indices = [test_df_columns[col] for col in selected_columns]\n",
        "\n",
        "  test_set = np.hstack((test_df_pca, test_df_scaled[:, selected_columns_indices]))\n",
        "\n",
        "  return test_set\n",
        "\n",
        "\n"
      ],
      "metadata": {
        "id": "pwiRbaxqW2nM"
      },
      "execution_count": 8,
      "outputs": []
    },
    {
      "cell_type": "code",
      "source": [
        "# Test the Isolation Forest model\n",
        "# sim_data = sim_data.to_frame().T\n",
        "test_df = data_preprocessing(sim_data, 'isolation_forest')\n",
        "\n",
        "with open('/content/Market-Anomaly-Detection/trained_models/isoforest_model.pkl', 'rb') as file:\n",
        "  isoforest_model = pickle.load(file)\n",
        "\n",
        "isoforest_predictions = isoforest_model.predict(test_df)\n",
        "\n",
        "# Print the anomaly score for each row and add anomaly label column to a copy of test_df\n",
        "isoforest_scores = isoforest_model.score_samples(test_df)\n",
        "data_copy = sim_data.copy()\n",
        "data_copy['isoforest_predictions'] = isoforest_scores\n",
        "data_copy['Anomaly_ISO'] = isoforest_predictions > 0\n",
        "data_copy['Anomaly_ISO'] = data_copy['Anomaly_ISO'].astype(int)\n"
      ],
      "metadata": {
        "colab": {
          "base_uri": "https://localhost:8080/"
        },
        "collapsed": true,
        "id": "3Tosofs8W5uw",
        "outputId": "c3a0ff99-c2c5-4480-9caf-ab222d5a7cbe"
      },
      "execution_count": 9,
      "outputs": [
        {
          "output_type": "stream",
          "name": "stderr",
          "text": [
            "/usr/local/lib/python3.11/dist-packages/sklearn/base.py:380: InconsistentVersionWarning: Trying to unpickle estimator StandardScaler from version 1.5.2 when using version 1.6.0. This might lead to breaking code or invalid results. Use at your own risk. For more info please refer to:\n",
            "https://scikit-learn.org/stable/model_persistence.html#security-maintainability-limitations\n",
            "  warnings.warn(\n",
            "/usr/local/lib/python3.11/dist-packages/sklearn/base.py:380: InconsistentVersionWarning: Trying to unpickle estimator PCA from version 1.5.2 when using version 1.6.0. This might lead to breaking code or invalid results. Use at your own risk. For more info please refer to:\n",
            "https://scikit-learn.org/stable/model_persistence.html#security-maintainability-limitations\n",
            "  warnings.warn(\n",
            "/usr/local/lib/python3.11/dist-packages/sklearn/base.py:380: InconsistentVersionWarning: Trying to unpickle estimator ExtraTreeRegressor from version 1.5.2 when using version 1.6.0. This might lead to breaking code or invalid results. Use at your own risk. For more info please refer to:\n",
            "https://scikit-learn.org/stable/model_persistence.html#security-maintainability-limitations\n",
            "  warnings.warn(\n",
            "/usr/local/lib/python3.11/dist-packages/sklearn/base.py:380: InconsistentVersionWarning: Trying to unpickle estimator IsolationForest from version 1.5.2 when using version 1.6.0. This might lead to breaking code or invalid results. Use at your own risk. For more info please refer to:\n",
            "https://scikit-learn.org/stable/model_persistence.html#security-maintainability-limitations\n",
            "  warnings.warn(\n"
          ]
        }
      ]
    },
    {
      "cell_type": "code",
      "source": [
        "data_copy.shape"
      ],
      "metadata": {
        "colab": {
          "base_uri": "https://localhost:8080/"
        },
        "id": "9MYMAsQgtB5W",
        "outputId": "174da26e-73c5-4566-de48-eb14e4920992"
      },
      "execution_count": 10,
      "outputs": [
        {
          "output_type": "execute_result",
          "data": {
            "text/plain": [
              "(1097, 17)"
            ]
          },
          "metadata": {},
          "execution_count": 10
        }
      ]
    },
    {
      "cell_type": "code",
      "source": [
        "data_copy['Anomaly_ISO'].value_counts()"
      ],
      "metadata": {
        "colab": {
          "base_uri": "https://localhost:8080/",
          "height": 178
        },
        "id": "8y1RIDSxb8R7",
        "outputId": "3b1181b2-d381-410c-cb96-c48642952d3d"
      },
      "execution_count": 11,
      "outputs": [
        {
          "output_type": "execute_result",
          "data": {
            "text/plain": [
              "Anomaly_ISO\n",
              "1    616\n",
              "0    481\n",
              "Name: count, dtype: int64"
            ],
            "text/html": [
              "<div>\n",
              "<style scoped>\n",
              "    .dataframe tbody tr th:only-of-type {\n",
              "        vertical-align: middle;\n",
              "    }\n",
              "\n",
              "    .dataframe tbody tr th {\n",
              "        vertical-align: top;\n",
              "    }\n",
              "\n",
              "    .dataframe thead th {\n",
              "        text-align: right;\n",
              "    }\n",
              "</style>\n",
              "<table border=\"1\" class=\"dataframe\">\n",
              "  <thead>\n",
              "    <tr style=\"text-align: right;\">\n",
              "      <th></th>\n",
              "      <th>count</th>\n",
              "    </tr>\n",
              "    <tr>\n",
              "      <th>Anomaly_ISO</th>\n",
              "      <th></th>\n",
              "    </tr>\n",
              "  </thead>\n",
              "  <tbody>\n",
              "    <tr>\n",
              "      <th>1</th>\n",
              "      <td>616</td>\n",
              "    </tr>\n",
              "    <tr>\n",
              "      <th>0</th>\n",
              "      <td>481</td>\n",
              "    </tr>\n",
              "  </tbody>\n",
              "</table>\n",
              "</div><br><label><b>dtype:</b> int64</label>"
            ]
          },
          "metadata": {},
          "execution_count": 11
        }
      ]
    },
    {
      "cell_type": "code",
      "source": [
        "# plot the anomalies along VIX\n",
        "plt.figure(figsize=(10, 6))\n",
        "plt.scatter(data_copy[data_copy['Anomaly_ISO'] == 1].index, data_copy[data_copy['Anomaly_ISO'] == 1]['VIX'], color='red', label='Anomaly')\n",
        "plt.xticks(range(0, data_copy.shape[0], 50), data_copy['Date'].iloc[::50], rotation = 45)\n",
        "plt.xlabel('Date')\n",
        "plt.ylabel('VIX')\n",
        "plt.title('VIX with Anomalies')\n",
        "plt.legend()\n",
        "plt.show()"
      ],
      "metadata": {
        "colab": {
          "base_uri": "https://localhost:8080/",
          "height": 617
        },
        "id": "DS3dD3qrcLfc",
        "outputId": "a4c09253-c1b6-4f11-f089-63225929ea6e"
      },
      "execution_count": 12,
      "outputs": [
        {
          "output_type": "display_data",
          "data": {
            "text/plain": [
              "<Figure size 1000x600 with 1 Axes>"
            ],
            "image/png": "[encoded data removed]"
          },
          "metadata": {}
        }
      ]
    },
    {
      "cell_type": "code",
      "source": [
        "# Test the SVM model\n",
        "with open('/content/Market-Anomaly-Detection/trained_models/svm_model.pkl', 'rb') as file:\n",
        "  svm_model = pickle.load(file)\n",
        "\n",
        "test_df = data_preprocessing(sim_data, 'svm')\n",
        "svm_predictions = svm_model.predict(test_df)\n"
      ],
      "metadata": {
        "colab": {
          "base_uri": "https://localhost:8080/"
        },
        "collapsed": true,
        "id": "VGEJ8eRKhMuH",
        "outputId": "212a5975-f30c-456b-d4c6-c432dd2cbc52"
      },
      "execution_count": 13,
      "outputs": [
        {
          "output_type": "stream",
          "name": "stderr",
          "text": [
            "/usr/local/lib/python3.11/dist-packages/sklearn/base.py:380: InconsistentVersionWarning: Trying to unpickle estimator SVC from version 1.5.2 when using version 1.6.0. This might lead to breaking code or invalid results. Use at your own risk. For more info please refer to:\n",
            "https://scikit-learn.org/stable/model_persistence.html#security-maintainability-limitations\n",
            "  warnings.warn(\n",
            "/usr/local/lib/python3.11/dist-packages/sklearn/base.py:380: InconsistentVersionWarning: Trying to unpickle estimator StandardScaler from version 1.5.2 when using version 1.6.0. This might lead to breaking code or invalid results. Use at your own risk. For more info please refer to:\n",
            "https://scikit-learn.org/stable/model_persistence.html#security-maintainability-limitations\n",
            "  warnings.warn(\n",
            "/usr/local/lib/python3.11/dist-packages/sklearn/base.py:380: InconsistentVersionWarning: Trying to unpickle estimator PCA from version 1.5.2 when using version 1.6.0. This might lead to breaking code or invalid results. Use at your own risk. For more info please refer to:\n",
            "https://scikit-learn.org/stable/model_persistence.html#security-maintainability-limitations\n",
            "  warnings.warn(\n"
          ]
        }
      ]
    },
    {
      "cell_type": "code",
      "source": [
        "# Test the Voting classifier model\n",
        "with open('/content/Market-Anomaly-Detection/trained_models/voting_clf_model.pkl', 'rb') as file:\n",
        "  voting_clf = pickle.load(file)\n",
        "\n",
        "test_df = data_preprocessing(sim_data, 'voting')\n",
        "voting_predictions = voting_clf.predict(test_df)"
      ],
      "metadata": {
        "colab": {
          "base_uri": "https://localhost:8080/"
        },
        "collapsed": true,
        "id": "m9IDhW40iHy-",
        "outputId": "6c9d95ce-2af9-48d1-b891-8805cd2f9537"
      },
      "execution_count": 14,
      "outputs": [
        {
          "output_type": "stream",
          "name": "stderr",
          "text": [
            "/usr/local/lib/python3.11/dist-packages/sklearn/base.py:380: InconsistentVersionWarning: Trying to unpickle estimator DecisionTreeClassifier from version 1.5.2 when using version 1.6.0. This might lead to breaking code or invalid results. Use at your own risk. For more info please refer to:\n",
            "https://scikit-learn.org/stable/model_persistence.html#security-maintainability-limitations\n",
            "  warnings.warn(\n",
            "/usr/local/lib/python3.11/dist-packages/sklearn/base.py:380: InconsistentVersionWarning: Trying to unpickle estimator RandomForestClassifier from version 1.5.2 when using version 1.6.0. This might lead to breaking code or invalid results. Use at your own risk. For more info please refer to:\n",
            "https://scikit-learn.org/stable/model_persistence.html#security-maintainability-limitations\n",
            "  warnings.warn(\n",
            "/usr/local/lib/python3.11/dist-packages/sklearn/base.py:380: InconsistentVersionWarning: Trying to unpickle estimator SVC from version 1.5.2 when using version 1.6.0. This might lead to breaking code or invalid results. Use at your own risk. For more info please refer to:\n",
            "https://scikit-learn.org/stable/model_persistence.html#security-maintainability-limitations\n",
            "  warnings.warn(\n",
            "/usr/local/lib/python3.11/dist-packages/sklearn/base.py:380: InconsistentVersionWarning: Trying to unpickle estimator LabelEncoder from version 1.5.2 when using version 1.6.0. This might lead to breaking code or invalid results. Use at your own risk. For more info please refer to:\n",
            "https://scikit-learn.org/stable/model_persistence.html#security-maintainability-limitations\n",
            "  warnings.warn(\n",
            "/usr/local/lib/python3.11/dist-packages/sklearn/base.py:380: InconsistentVersionWarning: Trying to unpickle estimator VotingClassifier from version 1.5.2 when using version 1.6.0. This might lead to breaking code or invalid results. Use at your own risk. For more info please refer to:\n",
            "https://scikit-learn.org/stable/model_persistence.html#security-maintainability-limitations\n",
            "  warnings.warn(\n",
            "/usr/local/lib/python3.11/dist-packages/sklearn/base.py:380: InconsistentVersionWarning: Trying to unpickle estimator StandardScaler from version 1.5.2 when using version 1.6.0. This might lead to breaking code or invalid results. Use at your own risk. For more info please refer to:\n",
            "https://scikit-learn.org/stable/model_persistence.html#security-maintainability-limitations\n",
            "  warnings.warn(\n",
            "/usr/local/lib/python3.11/dist-packages/sklearn/base.py:380: InconsistentVersionWarning: Trying to unpickle estimator PCA from version 1.5.2 when using version 1.6.0. This might lead to breaking code or invalid results. Use at your own risk. For more info please refer to:\n",
            "https://scikit-learn.org/stable/model_persistence.html#security-maintainability-limitations\n",
            "  warnings.warn(\n",
            "/usr/local/lib/python3.11/dist-packages/sklearn/utils/_tags.py:354: FutureWarning: The XGBClassifier or classes from which it inherits use `_get_tags` and `_more_tags`. Please define the `__sklearn_tags__` method, or inherit from `sklearn.base.BaseEstimator` and/or other appropriate mixins such as `sklearn.base.TransformerMixin`, `sklearn.base.ClassifierMixin`, `sklearn.base.RegressorMixin`, and `sklearn.base.OutlierMixin`. From scikit-learn 1.7, not defining `__sklearn_tags__` will raise an error.\n",
            "  warnings.warn(\n"
          ]
        }
      ]
    },
    {
      "cell_type": "code",
      "source": [
        "voting_predictions= voting_predictions.reshape(-1,1)"
      ],
      "metadata": {
        "id": "hkUGY_yvrFHw"
      },
      "execution_count": 15,
      "outputs": []
    },
    {
      "cell_type": "markdown",
      "source": [
        "## Strategies\n",
        "- Buy options when VIX is low and sell options when VIX is high\n",
        "- If the DXY indicates an uptrend in value, it is best to buy the USD against other currencies. If the USD is going through a downtrend, it is time to sell the USD against another, stronger currency.\n",
        "- During an anomaly:\n",
        "  - Market Crash:\n",
        "    * Shift to safe-haven markets like gold, US Treasury bonds, or defensive stocks (utilities, healthcare)\n",
        "    * Avoid panic selling- hold quality stocks if you believe in their long term potential\n",
        "  - Volatality Spike (high VIX)\n",
        "    * sell options if you are experienced, as high volality inflates their premiums\n",
        "    * Conservative: reduce equity exposure and increase cash or bonds\n",
        "    * dont buy volatile stocks, as prices swing wildly.\n",
        "  - Currency Anomalies (USD spike or crash)\n",
        "    * USD Uptrend: invest in USD denominated assets or exporting companies\n",
        "    * USD Downtrend: explore assets like gold or foreign stocks that could benefit from a weaker dollar\n",
        "- During calm markets or no anomalies:\n",
        "  - Diversify Portfolio\n",
        "  - Use Dollar Cost Averaging (DCA) eg: invest $500 monthly in S&P 500 index fund\n",
        "  - Rebalance your Portfolio:\n",
        "    * if stocks outperform bonds, rebalance by selling some stocks and buying more bonds\n",
        "  - Invest in Growth Opportunities\n",
        "\n",
        "\n",
        "## Next Steps\n",
        "- create a strategy column for the test data\n",
        "- check if it matches the anomaly indicator\n",
        "- Feed in the results - test data, with predictions to an LLM and ask it to verify\n"
      ],
      "metadata": {
        "id": "pFxil5Rc7Q5O"
      }
    },
    {
      "cell_type": "code",
      "source": [
        "# JSON Object with all the strategies as context to feed into an LLM\n",
        "\n",
        "strategies = {\n",
        "  \"investment_rules\": [\n",
        "    {\n",
        "      \"feature\": \"XAU_BGNL\",\n",
        "      \"description\": \"Gold Prices\",\n",
        "      \"signals\": [\n",
        "        {\n",
        "          \"condition\": \"VIX > 25 OR DXY < 90\",\n",
        "          \"action\": \"Increase exposure to gold as a safe-haven asset.\"\n",
        "        },\n",
        "        {\n",
        "          \"condition\": \"DXY > 100 AND USGG30YR > 3%\",\n",
        "          \"action\": \"Reduce exposure to gold due to rising dollar strength and interest rates.\"\n",
        "        }\n",
        "      ]\n",
        "    },\n",
        "    {\n",
        "      \"feature\": \"BDIY\",\n",
        "      \"description\": \"Baltic Dry Index (Global Trade Health)\",\n",
        "      \"signals\": [\n",
        "        {\n",
        "          \"condition\": \"BDIY trending upwards\",\n",
        "          \"action\": \"Invest in cyclical sectors (e.g., industrials, energy, commodities).\"\n",
        "        },\n",
        "        {\n",
        "          \"condition\": \"BDIY consistently declining\",\n",
        "          \"action\": \"Reduce exposure to cyclical stocks; consider defensive assets.\"\n",
        "        }\n",
        "      ]\n",
        "    },\n",
        "    {\n",
        "      \"feature\": \"CRY\",\n",
        "      \"description\": \"Core Commodity CRB Excess Return Index\",\n",
        "      \"signals\": [\n",
        "        {\n",
        "          \"condition\": \"CRY trending upwards\",\n",
        "          \"action\": \"Invest in commodity-focused ETFs or inflation-hedging assets like energy and agriculture.\"\n",
        "        },\n",
        "        {\n",
        "          \"condition\": \"CRY trending downwards\",\n",
        "          \"action\": \"Shift investments to defensive sectors or government bonds.\"\n",
        "        }\n",
        "      ]\n",
        "    },\n",
        "    {\n",
        "      \"feature\": \"DXY\",\n",
        "      \"description\": \"US Dollar Index\",\n",
        "      \"signals\": [\n",
        "        {\n",
        "          \"condition\": \"DXY weakening\",\n",
        "          \"action\": \"Invest in international equities (e.g., MXEU, MXIN) or commodities like gold and oil.\"\n",
        "        },\n",
        "        {\n",
        "          \"condition\": \"DXY strengthening\",\n",
        "          \"action\": \"Reduce exposure to emerging market equities and commodities, which may underperform.\"\n",
        "        }\n",
        "      ]\n",
        "    },\n",
        "    {\n",
        "      \"feature\": \"VIX\",\n",
        "      \"description\": \"Volatility Index (Fear Index)\",\n",
        "      \"signals\": [\n",
        "        {\n",
        "          \"condition\": \"VIX is low\",\n",
        "          \"action\": \"Focus on growth-oriented stocks or riskier assets.\"\n",
        "        },\n",
        "        {\n",
        "          \"condition\": \"VIX is spiking and anomalies are detected\",\n",
        "          \"action\": \"Reduce risk by increasing allocations to bonds or cash.\"\n",
        "        }\n",
        "      ]\n",
        "    },\n",
        "    {\n",
        "      \"feature\": \"USGG30YR\",\n",
        "      \"description\": \"US 30-Year Government Bonds\",\n",
        "      \"signals\": [\n",
        "        {\n",
        "          \"condition\": \"USGG30YR yields falling\",\n",
        "          \"action\": \"Increase allocation to growth stocks and bonds as lower yields are favorable.\"\n",
        "        },\n",
        "        {\n",
        "          \"condition\": \"USGG30YR yields rising\",\n",
        "          \"action\": \"Shift to inflation-protected assets or shorter-duration bonds to minimize risk.\"\n",
        "        }\n",
        "      ]\n",
        "    },\n",
        "    {\n",
        "      \"feature\": \"GT10\",\n",
        "      \"description\": \"US 10-Year Treasury Yield\",\n",
        "      \"signals\": [\n",
        "        {\n",
        "          \"condition\": \"GT10 yields falling\",\n",
        "          \"action\": \"Invest in long-term bonds and growth-oriented stocks.\"\n",
        "        },\n",
        "        {\n",
        "          \"condition\": \"GT10 yields rising\",\n",
        "          \"action\": \"Shift to value stocks or shorter-duration bonds to hedge against interest rate risk.\"\n",
        "        }\n",
        "      ]\n",
        "    },\n",
        "    {\n",
        "      \"feature\": \"EONIA\",\n",
        "      \"description\": \"Euro Overnight Index Average\",\n",
        "      \"signals\": [\n",
        "        {\n",
        "          \"condition\": \"EONIA falling\",\n",
        "          \"action\": \"Invest in European equities or longer-duration bonds due to dovish ECB policy.\"\n",
        "        },\n",
        "        {\n",
        "          \"condition\": \"EONIA rising\",\n",
        "          \"action\": \"Reduce exposure to equities and longer-duration bonds in the Eurozone.\"\n",
        "        }\n",
        "      ]\n",
        "    },\n",
        "    {\n",
        "      \"feature\": \"GTITL30YR\",\n",
        "      \"description\": \"Italian Government 30-Year Bonds\",\n",
        "      \"signals\": [\n",
        "        {\n",
        "          \"condition\": \"GTITL30YR yields falling\",\n",
        "          \"action\": \"Increase allocation to safe-haven assets like gold or high-grade bonds.\"\n",
        "        },\n",
        "        {\n",
        "          \"condition\": \"GTITL30YR yields rising\",\n",
        "          \"action\": \"Consider investing in equities or risk-on assets, indicating improving economic conditions.\"\n",
        "        }\n",
        "      ]\n",
        "    },\n",
        "    {\n",
        "      \"feature\": \"GTJPY30YR\",\n",
        "      \"description\": \"Japanese Government 30-Year Bonds\",\n",
        "      \"signals\": [\n",
        "        {\n",
        "          \"condition\": \"GTJPY30YR yields falling\",\n",
        "          \"action\": \"Shift to safe-haven assets like gold or government bonds in stable economies.\"\n",
        "        },\n",
        "        {\n",
        "          \"condition\": \"GTJPY30YR yields rising\",\n",
        "          \"action\": \"Consider equities or risk-on assets, indicating potential growth.\"\n",
        "        }\n",
        "      ]\n",
        "    },\n",
        "    {\n",
        "      \"feature\": \"LP01TREU\",\n",
        "      \"description\": \"Pan Euro High Yield Index\",\n",
        "      \"signals\": [\n",
        "        {\n",
        "          \"condition\": \"LP01TREU rising\",\n",
        "          \"action\": \"Invest in European equities and high-yield bonds, signaling improved credit conditions.\"\n",
        "        },\n",
        "        {\n",
        "          \"condition\": \"LP01TREU falling\",\n",
        "          \"action\": \"Reduce exposure to high-yield bonds and riskier European assets due to tighter credit.\"\n",
        "        }\n",
        "      ]\n",
        "    },\n",
        "    {\n",
        "      \"feature\": \"MXUS\",\n",
        "      \"description\": \"US Equity Index\",\n",
        "      \"signals\": [\n",
        "        {\n",
        "          \"condition\": \"MXUS trending upwards\",\n",
        "          \"action\": \"Increase exposure to US equities for potential growth opportunities.\"\n",
        "        },\n",
        "        {\n",
        "          \"condition\": \"MXUS trending downwards\",\n",
        "          \"action\": \"Reduce exposure to US equities; consider defensive assets.\"\n",
        "        }\n",
        "      ]\n",
        "    },\n",
        "    {\n",
        "      \"feature\": \"MXEU\",\n",
        "      \"description\": \"European Equity Index\",\n",
        "      \"signals\": [\n",
        "        {\n",
        "          \"condition\": \"MXEU trending upwards\",\n",
        "          \"action\": \"Increase exposure to European equities for potential growth opportunities.\"\n",
        "        },\n",
        "        {\n",
        "          \"condition\": \"MXEU trending downwards\",\n",
        "          \"action\": \"Reduce exposure to European equities; consider safer assets like bonds.\"\n",
        "        }\n",
        "      ]\n",
        "    },\n",
        "    {\n",
        "      \"feature\": \"MXIN\",\n",
        "      \"description\": \"Indian Equity Index\",\n",
        "      \"signals\": [\n",
        "        {\n",
        "          \"condition\": \"MXIN trending upwards\",\n",
        "          \"action\": \"Increase exposure to Indian equities for emerging market growth.\"\n",
        "        },\n",
        "        {\n",
        "          \"condition\": \"MXIN trending downwards\",\n",
        "          \"action\": \"Reduce exposure to Indian equities; shift to safer or developed market assets.\"\n",
        "        }\n",
        "      ]\n",
        "    }\n",
        "  ]\n",
        "}\n",
        "\n",
        "# save strategies in a pickle file\n",
        "with open(\"strategies.pkl\", 'wb') as file:\n",
        "  pickle.dump(strategies, file)\n",
        "\n"
      ],
      "metadata": {
        "id": "jjiiE_ip6ire"
      },
      "execution_count": 58,
      "outputs": []
    },
    {
      "cell_type": "code",
      "source": [
        "type(strategies)"
      ],
      "metadata": {
        "colab": {
          "base_uri": "https://localhost:8080/"
        },
        "id": "WVI_rUBMa3wq",
        "outputId": "5e4a0442-8931-407c-cfb4-de9ba41276b1"
      },
      "execution_count": 17,
      "outputs": [
        {
          "output_type": "execute_result",
          "data": {
            "text/plain": [
              "dict"
            ]
          },
          "metadata": {},
          "execution_count": 17
        }
      ]
    },
    {
      "cell_type": "code",
      "source": [
        "# get the last 20 rows from data_copy to feed into LLM\n",
        "data = data_copy.tail(20)\n",
        "\n",
        "data_llm = []\n",
        "# preprocess each row in data make it into a string\n",
        "for index, row in data.iterrows():\n",
        "  data_llm.append([f\"{row['Date']} had the these market values: XAU BGNL: {row['XAU BGNL']:.3f}, BDIY: {row['BDIY']:.3f}, CRY: {row['CRY']:.3f}, DXY: {row['DXY']:.3f}, VIX: {row['VIX']:.3f}, USGG30YR: {row['USGG30YR']:.3f}, GT10: {row['GT10']:.3f}, EONIA: {row['EONIA']:.3f}, GTITL30YR: {row['GTITL30YR']:.3f}, GTJPY30YR: {row['GTJPY30YR']:.3f}, LP01TREU: {row['LP01TREU']:.3f}, MXUS: {row['MXUS']:.3f}, MXEU: {row['MXEU']:.3f}, MXIN: {row['MXIN']:.3f}, Anomaly: {row['Anomaly_ISO']}\"])\n",
        "\n",
        "llm_data = '\\n'.join(data_llm[row][0] for row in range(len(data_llm)))\n",
        "\n",
        "\n"
      ],
      "metadata": {
        "id": "5cdrn5Qp786c"
      },
      "execution_count": 18,
      "outputs": []
    },
    {
      "cell_type": "code",
      "source": [
        "from google.colab import userdata"
      ],
      "metadata": {
        "id": "m3Bw3Jqe30c0"
      },
      "execution_count": 19,
      "outputs": []
    },
    {
      "cell_type": "code",
      "source": [
        "import os\n",
        "import google.generativeai as genai\n",
        "\n",
        "genai.configure(api_key=userdata.get('GOOGLE_API_KEY'))"
      ],
      "metadata": {
        "id": "lkBMncGN3bLp"
      },
      "execution_count": 21,
      "outputs": []
    },
    {
      "cell_type": "code",
      "source": [
        "generation_config = {\n",
        "  \"temperature\": 1,\n",
        "  \"top_p\": 0.95,\n",
        "  \"top_k\": 40,\n",
        "  \"max_output_tokens\": 8192,\n",
        "  \"response_mime_type\": \"text/plain\",\n",
        "}\n",
        "\n",
        "model = genai.GenerativeModel(\n",
        "  model_name=\"gemini-2.0-flash-exp\",\n",
        "  generation_config=generation_config,\n",
        ")\n",
        "\n",
        "prompt = f'''You are an expert in Stock markets and have deep knowledge of how to make financial investments.\n",
        "        Your goal is analyze the {llm_data} and understand the market conditions.\n",
        "        Identify any upward or downward trend for the market indicators.\n",
        "        Do not pick out any specific indicators.\n",
        "        Do not give day by day analysis.\n",
        "        Provide only a summary of the whole period.\n",
        "        Provide clear advice on what kind of decisions should be made.\n",
        "        Follow this for more context : {strategies} but augment with this better decisions.\n",
        "        '''"
      ],
      "metadata": {
        "id": "5YcJA_Eu4Byp"
      },
      "execution_count": 22,
      "outputs": []
    },
    {
      "cell_type": "code",
      "source": [
        "response = model.generate_content(prompt)\n"
      ],
      "metadata": {
        "id": "mKRAqKTyV0UE"
      },
      "execution_count": 23,
      "outputs": []
    },
    {
      "cell_type": "code",
      "source": [
        "print(response.text)"
      ],
      "metadata": {
        "colab": {
          "base_uri": "https://localhost:8080/"
        },
        "id": "4kVKDp9kbsPO",
        "outputId": "2c19bbbd-6bdf-46b7-8c1e-18b37e80c272"
      },
      "execution_count": 24,
      "outputs": [
        {
          "output_type": "stream",
          "name": "stdout",
          "text": [
            "Okay, let's analyze this market data and formulate a strategy.\n",
            "\n",
            "**Summary of Market Trends (2024-12-13 to 2025-01-01):**\n",
            "\n",
            "This period is marked by significant volatility and some conflicting trends across different market indicators.\n",
            "\n",
            "*   **Gold (XAU BGNL):** Gold prices experienced considerable fluctuations, initially dropping sharply, then spiking, and showing a general tendency towards volatility with a weak overall downward trend.\n",
            "*   **Global Trade (BDIY):** The Baltic Dry Index shows high volatility and an overall increasing trend, indicating a strengthening of global trade activity despite the fluctuations.\n",
            "*   **Commodities (CRY):** The CRB Commodity Index demonstrates an increase in volatility with an upward trend.\n",
            "*   **US Dollar (DXY):** The US Dollar Index shows a high level of fluctuations, with a slight overall upward trend.\n",
            "*   **Volatility (VIX):** The VIX demonstrates high volatility and an overall neutral to upward trend, reflecting fluctuating market uncertainty. There were also multiple spikes that can be attributed to the detected anomalies.\n",
            "*   **US 30-Year Bonds (USGG30YR):**  Yields on US 30-year bonds showed high volatility with no clear overall trend.\n",
            "*   **US 10-Year Bonds (GT10):** Yields on 10-year US Treasuries showed volatility with an overall flat trend.\n",
            "*   **Euro Overnight Rate (EONIA):**  EONIA fluctuated between negative and positive values, showing no clear trend.\n",
            "*  **Italian 30-Year Bonds (GTITL30YR):** Yields show high volatility and an overall flat trend with some peaks.\n",
            "*  **Japanese 30-Year Bonds (GTJPY30YR):** Yields show high volatility and an overall neutral trend.\n",
            "*  **High Yield Euro Bonds (LP01TREU):**  Values show high volatility and an overall negative trend, indicating increased credit risk.\n",
            "*   **US Equities (MXUS):** The US Equity Index shows high volatility with a slight upward trend.\n",
            "*   **European Equities (MXEU):** European equities experienced high volatility with an overall downward trend.\n",
            "*  **Indian Equities (MXIN):** The Indian Equity Index shows high volatility with a slightly upward trend.\n",
            "*   **Anomalies:** There are a lot of anomalies detected during the period, signaling unusual market behavior.\n",
            "\n",
            "**Investment Decisions:**\n",
            "\n",
            "Given the high volatility and mixed signals, a cautious and flexible investment strategy is warranted. Here's how to approach it:\n",
            "\n",
            "1.  **Risk Management is Paramount:** The high VIX values and the large number of identified anomalies indicate that this is a period of high uncertainty and risk. Prioritize risk management:\n",
            "    *   **Increase Cash Position:** Allocate a larger portion of your portfolio to cash or highly liquid, low-risk assets. This provides flexibility and cushions against potential losses.\n",
            "    *   **Diversification:** Ensure your portfolio is diversified across different asset classes, geographies, and sectors.\n",
            "2.  **Safe Haven Assets:** Due to the market uncertainty and volatility:\n",
            "    *   **Gold (XAU BGNL):** Although gold has not shown a strong uptrend, the high VIX readings and the overall market uncertainty suggest maintaining a moderate allocation to gold as a safe haven. Follow the rule to increase exposure to gold if VIX > 25 or DXY < 90.\n",
            "3.  **Global Trade Opportunities:**\n",
            "    *   **Cyclical Sectors:** The increasing trend in the Baltic Dry Index (BDIY) signals that global trade is strengthening, presenting opportunities in cyclical sectors like industrials, materials, and energy. However, be selective, focusing on companies with strong fundamentals.\n",
            "4.  **Commodity Exposure:**\n",
            "    *   **Commodity ETFs:** Given the upward trend of the CRB index (CRY), consider a moderate allocation to diversified commodity ETFs. Focus on those providing broad exposure to energy and agricultural commodities for some inflation protection.\n",
            "5.  **Currency Strategy (DXY):**\n",
            "    *   **Neutral Stance:** The conflicting signals from the US Dollar Index (DXY) make a clear directional bet difficult. A balanced approach is recommended, where you don't take big positions either way. Monitor the DXY closely for any decisive breaks.\n",
            "6.  **Interest Rate Sensitivity:**\n",
            "    *  **US Bonds:** The lack of a clear trend in both US 30 and 10 year bonds (USGG30YR and GT10) suggests a neutral approach. Look for short-term bond opportunities with a lower interest rate risk.\n",
            "    *   **European Bonds (GTITL30YR):** Given the fluctuations, a wait-and-see approach is advised for Italian bonds. Don't load up too much on Italian long-term bonds at this time.\n",
            "    *   **Japanese Bonds (GTJPY30YR):** The Japanese bonds show low yields and no clear trend. Maintain a limited exposure to this asset.\n",
            "7.  **Credit Risk:**\n",
            "    *   **European High Yield (LP01TREU):** Given the downward trend of the LP01TREU, reduce exposure to high-yield bonds due to tighter credit conditions.\n",
            "8.  **Equity Markets:**\n",
            "    *   **US Equities (MXUS):**  Given the uncertainty, increase and decrease your US equities allocation based on the general trend of the index. Consider a slightly lower exposure to MXUS now, due to the neutral to upward trend, as well as the high volatility.\n",
            "     *  **European Equities (MXEU):** Given the downward trend, reduce the allocations to European Equities.\n",
            "    *  **Indian Equities (MXIN):** Given the slight upward trend, consider a moderate exposure to Indian equities for emerging market growth, while also monitoring the market closely.\n",
            "\n",
            "**Key Actions:**\n",
            "\n",
            "*   **Be Agile:** Given the volatility, be prepared to adjust your portfolio quickly. Don't get locked into long-term positions without the ability to reassess.\n",
            "*   **Focus on Quality:** Prioritize quality companies with strong balance sheets and reliable earnings. Don't speculate on low-quality assets.\n",
            "*   **Stay Informed:** Monitor the market indicators daily and look for trend confirmations or potential reversals.\n",
            "*   **Use Stop-Loss Orders:** Protect your capital by setting stop-loss orders to limit potential losses on your positions.\n",
            "*   **Do Not Chase Returns:** Resist the urge to chase short-term gains and stick to your investment strategy.\n",
            "\n",
            "**In Summary:**\n",
            "\n",
            "This period calls for a cautious, flexible, and diversified approach. Reduce overall risk exposure by increasing cash, maintain a moderate exposure to safe havens like gold, be selective with cyclical sectors benefiting from increased trade, and keep a close eye on US and European bonds. Be prepared to adjust your portfolio as needed.  Pay careful attention to the detected anomalies and understand their impact on the broader market.\n",
            "\n"
          ]
        }
      ]
    },
    {
      "cell_type": "code",
      "source": [
        "! pip install streamlit pyngrok python-dotenv"
      ],
      "metadata": {
        "colab": {
          "base_uri": "https://localhost:8080/"
        },
        "id": "bfl018eDxEFj",
        "outputId": "281d1573-56f1-4155-ff4f-b3e50e58ff59"
      },
      "execution_count": 25,
      "outputs": [
        {
          "output_type": "stream",
          "name": "stdout",
          "text": [
            "Collecting streamlit\n",
            "  Downloading streamlit-1.41.1-py2.py3-none-any.whl.metadata (8.5 kB)\n",
            "Collecting pyngrok\n",
            "  Downloading pyngrok-7.2.3-py3-none-any.whl.metadata (8.7 kB)\n",
            "Collecting python-dotenv\n",
            "  Downloading python_dotenv-1.0.1-py3-none-any.whl.metadata (23 kB)\n",
            "Requirement already satisfied: altair<6,>=4.0 in /usr/local/lib/python3.11/dist-packages (from streamlit) (5.5.0)\n",
            "Requirement already satisfied: blinker<2,>=1.0.0 in /usr/local/lib/python3.11/dist-packages (from streamlit) (1.9.0)\n",
            "Requirement already satisfied: cachetools<6,>=4.0 in /usr/local/lib/python3.11/dist-packages (from streamlit) (5.5.0)\n",
            "Requirement already satisfied: click<9,>=7.0 in /usr/local/lib/python3.11/dist-packages (from streamlit) (8.1.8)\n",
            "Requirement already satisfied: numpy<3,>=1.23 in /usr/local/lib/python3.11/dist-packages (from streamlit) (1.26.4)\n",
            "Requirement already satisfied: packaging<25,>=20 in /usr/local/lib/python3.11/dist-packages (from streamlit) (24.2)\n",
            "Requirement already satisfied: pandas<3,>=1.4.0 in /usr/local/lib/python3.11/dist-packages (from streamlit) (2.2.2)\n",
            "Requirement already satisfied: pillow<12,>=7.1.0 in /usr/local/lib/python3.11/dist-packages (from streamlit) (11.1.0)\n",
            "Requirement already satisfied: protobuf<6,>=3.20 in /usr/local/lib/python3.11/dist-packages (from streamlit) (4.25.5)\n",
            "Requirement already satisfied: pyarrow>=7.0 in /usr/local/lib/python3.11/dist-packages (from streamlit) (17.0.0)\n",
            "Requirement already satisfied: requests<3,>=2.27 in /usr/local/lib/python3.11/dist-packages (from streamlit) (2.32.3)\n",
            "Requirement already satisfied: rich<14,>=10.14.0 in /usr/local/lib/python3.11/dist-packages (from streamlit) (13.9.4)\n",
            "Requirement already satisfied: tenacity<10,>=8.1.0 in /usr/local/lib/python3.11/dist-packages (from streamlit) (9.0.0)\n",
            "Requirement already satisfied: toml<2,>=0.10.1 in /usr/local/lib/python3.11/dist-packages (from streamlit) (0.10.2)\n",
            "Requirement already satisfied: typing-extensions<5,>=4.3.0 in /usr/local/lib/python3.11/dist-packages (from streamlit) (4.12.2)\n",
            "Collecting watchdog<7,>=2.1.5 (from streamlit)\n",
            "  Downloading watchdog-6.0.0-py3-none-manylinux2014_x86_64.whl.metadata (44 kB)\n",
            "\u001b[2K     \u001b[90m━━━━━━━━━━━━━━━━━━━━━━━━━━━━━━━━━━━━━━━━\u001b[0m \u001b[32m44.3/44.3 kB\u001b[0m \u001b[31m2.5 MB/s\u001b[0m eta \u001b[36m0:00:00\u001b[0m\n",
            "\u001b[?25hRequirement already satisfied: gitpython!=3.1.19,<4,>=3.0.7 in /usr/local/lib/python3.11/dist-packages (from streamlit) (3.1.44)\n",
            "Collecting pydeck<1,>=0.8.0b4 (from streamlit)\n",
            "  Downloading pydeck-0.9.1-py2.py3-none-any.whl.metadata (4.1 kB)\n",
            "Requirement already satisfied: tornado<7,>=6.0.3 in /usr/local/lib/python3.11/dist-packages (from streamlit) (6.3.3)\n",
            "Requirement already satisfied: PyYAML>=5.1 in /usr/local/lib/python3.11/dist-packages (from pyngrok) (6.0.2)\n",
            "Requirement already satisfied: jinja2 in /usr/local/lib/python3.11/dist-packages (from altair<6,>=4.0->streamlit) (3.1.5)\n",
            "Requirement already satisfied: jsonschema>=3.0 in /usr/local/lib/python3.11/dist-packages (from altair<6,>=4.0->streamlit) (4.23.0)\n",
            "Requirement already satisfied: narwhals>=1.14.2 in /usr/local/lib/python3.11/dist-packages (from altair<6,>=4.0->streamlit) (1.21.1)\n",
            "Requirement already satisfied: gitdb<5,>=4.0.1 in /usr/local/lib/python3.11/dist-packages (from gitpython!=3.1.19,<4,>=3.0.7->streamlit) (4.0.12)\n",
            "Requirement already satisfied: python-dateutil>=2.8.2 in /usr/local/lib/python3.11/dist-packages (from pandas<3,>=1.4.0->streamlit) (2.8.2)\n",
            "Requirement already satisfied: pytz>=2020.1 in /usr/local/lib/python3.11/dist-packages (from pandas<3,>=1.4.0->streamlit) (2024.2)\n",
            "Requirement already satisfied: tzdata>=2022.7 in /usr/local/lib/python3.11/dist-packages (from pandas<3,>=1.4.0->streamlit) (2024.2)\n",
            "Requirement already satisfied: charset-normalizer<4,>=2 in /usr/local/lib/python3.11/dist-packages (from requests<3,>=2.27->streamlit) (3.4.1)\n",
            "Requirement already satisfied: idna<4,>=2.5 in /usr/local/lib/python3.11/dist-packages (from requests<3,>=2.27->streamlit) (3.10)\n",
            "Requirement already satisfied: urllib3<3,>=1.21.1 in /usr/local/lib/python3.11/dist-packages (from requests<3,>=2.27->streamlit) (2.3.0)\n",
            "Requirement already satisfied: certifi>=2017.4.17 in /usr/local/lib/python3.11/dist-packages (from requests<3,>=2.27->streamlit) (2024.12.14)\n",
            "Requirement already satisfied: markdown-it-py>=2.2.0 in /usr/local/lib/python3.11/dist-packages (from rich<14,>=10.14.0->streamlit) (3.0.0)\n",
            "Requirement already satisfied: pygments<3.0.0,>=2.13.0 in /usr/local/lib/python3.11/dist-packages (from rich<14,>=10.14.0->streamlit) (2.18.0)\n",
            "Requirement already satisfied: smmap<6,>=3.0.1 in /usr/local/lib/python3.11/dist-packages (from gitdb<5,>=4.0.1->gitpython!=3.1.19,<4,>=3.0.7->streamlit) (5.0.2)\n",
            "Requirement already satisfied: MarkupSafe>=2.0 in /usr/local/lib/python3.11/dist-packages (from jinja2->altair<6,>=4.0->streamlit) (3.0.2)\n",
            "Requirement already satisfied: attrs>=22.2.0 in /usr/local/lib/python3.11/dist-packages (from jsonschema>=3.0->altair<6,>=4.0->streamlit) (24.3.0)\n",
            "Requirement already satisfied: jsonschema-specifications>=2023.03.6 in /usr/local/lib/python3.11/dist-packages (from jsonschema>=3.0->altair<6,>=4.0->streamlit) (2024.10.1)\n",
            "Requirement already satisfied: referencing>=0.28.4 in /usr/local/lib/python3.11/dist-packages (from jsonschema>=3.0->altair<6,>=4.0->streamlit) (0.35.1)\n",
            "Requirement already satisfied: rpds-py>=0.7.1 in /usr/local/lib/python3.11/dist-packages (from jsonschema>=3.0->altair<6,>=4.0->streamlit) (0.22.3)\n",
            "Requirement already satisfied: mdurl~=0.1 in /usr/local/lib/python3.11/dist-packages (from markdown-it-py>=2.2.0->rich<14,>=10.14.0->streamlit) (0.1.2)\n",
            "Requirement already satisfied: six>=1.5 in /usr/local/lib/python3.11/dist-packages (from python-dateutil>=2.8.2->pandas<3,>=1.4.0->streamlit) (1.17.0)\n",
            "Downloading streamlit-1.41.1-py2.py3-none-any.whl (9.1 MB)\n",
            "\u001b[2K   \u001b[90m━━━━━━━━━━━━━━━━━━━━━━━━━━━━━━━━━━━━━━━━\u001b[0m \u001b[32m9.1/9.1 MB\u001b[0m \u001b[31m63.0 MB/s\u001b[0m eta \u001b[36m0:00:00\u001b[0m\n",
            "\u001b[?25hDownloading pyngrok-7.2.3-py3-none-any.whl (23 kB)\n",
            "Downloading python_dotenv-1.0.1-py3-none-any.whl (19 kB)\n",
            "Downloading pydeck-0.9.1-py2.py3-none-any.whl (6.9 MB)\n",
            "\u001b[2K   \u001b[90m━━━━━━━━━━━━━━━━━━━━━━━━━━━━━━━━━━━━━━━━\u001b[0m \u001b[32m6.9/6.9 MB\u001b[0m \u001b[31m55.0 MB/s\u001b[0m eta \u001b[36m0:00:00\u001b[0m\n",
            "\u001b[?25hDownloading watchdog-6.0.0-py3-none-manylinux2014_x86_64.whl (79 kB)\n",
            "\u001b[2K   \u001b[90m━━━━━━━━━━━━━━━━━━━━━━━━━━━━━━━━━━━━━━━━\u001b[0m \u001b[32m79.1/79.1 kB\u001b[0m \u001b[31m7.1 MB/s\u001b[0m eta \u001b[36m0:00:00\u001b[0m\n",
            "\u001b[?25hInstalling collected packages: watchdog, python-dotenv, pyngrok, pydeck, streamlit\n",
            "Successfully installed pydeck-0.9.1 pyngrok-7.2.3 python-dotenv-1.0.1 streamlit-1.41.1 watchdog-6.0.0\n"
          ]
        }
      ]
    },
    {
      "cell_type": "code",
      "source": [
        "from threading import Thread\n",
        "from pyngrok import ngrok"
      ],
      "metadata": {
        "id": "1TtBwJ_XxWeW"
      },
      "execution_count": 26,
      "outputs": []
    },
    {
      "cell_type": "code",
      "source": [
        "ngrok_token = userdata.get('NGROK_AUTH_TOKEN')\n",
        "ngrok.set_auth_token(ngrok_token)"
      ],
      "metadata": {
        "colab": {
          "base_uri": "https://localhost:8080/"
        },
        "id": "4EJPZuCRxY8s",
        "outputId": "1c7b9272-b602-483c-e370-6096629e87ba"
      },
      "execution_count": 27,
      "outputs": [
        {
          "output_type": "stream",
          "name": "stdout",
          "text": []
        }
      ]
    },
    {
      "cell_type": "code",
      "source": [
        "def run_streamlit():\n",
        "  os.system(\"streamlit run /content/Market-Anomaly-Detection/app.py --server.port 8501\")"
      ],
      "metadata": {
        "id": "_5PMR8dUxeFE"
      },
      "execution_count": 28,
      "outputs": []
    },
    {
      "cell_type": "code",
      "source": [
        "%%writefile app.py\n",
        "# saves our python file in colab as app.py\n",
        "\n",
        "import pandas as pd\n",
        "import numpy as np\n",
        "import pickle\n",
        "import shap\n",
        "import pickle\n",
        "from sklearn.model_selection import train_test_split\n",
        "from sklearn.linear_model import LogisticRegression\n",
        "from sklearn.ensemble import IsolationForest\n",
        "from imblearn.over_sampling import SMOTE\n",
        "from sklearn.metrics import classification_report, accuracy_score\n",
        "from sklearn.preprocessing import StandardScaler\n",
        "from sklearn.decomposition import PCA\n",
        "import matplotlib.pyplot as plt\n",
        "import seaborn as sns\n",
        "import xgboost as xgb\n",
        "from sklearn.model_selection import GridSearchCV\n",
        "from sklearn.metrics import roc_auc_score, roc_curve, auc\n",
        "from sklearn.ensemble import VotingClassifier\n",
        "from sklearn.svm import SVC\n",
        "from sklearn.ensemble import RandomForestClassifier\n",
        "import streamlit as st\n",
        "from dotenv import load_dotenv\n",
        "import warnings\n",
        "warnings.filterwarnings(\"ignore\")\n",
        "load_dotenv()\n",
        "from google.colab import userdata\n",
        "import os\n",
        "from datetime import datetime, timedelta\n",
        "import time\n",
        "import google.generativeai as genai\n",
        "\n",
        "genai.configure(api_key=os.getenv('GOOGLE_API_KEY'))\n",
        "generation_config = {\n",
        "  \"temperature\": 1,\n",
        "  \"top_p\": 0.95,\n",
        "  \"top_k\": 40,\n",
        "  \"max_output_tokens\": 8192,\n",
        "  \"response_mime_type\": \"text/plain\",\n",
        "  }\n",
        "\n",
        "with open(\"/content/Market-Anomaly-Detection/strategies.pkl\", 'rb') as file:\n",
        "    strategies = pickle.load(file)\n",
        "\n",
        "def generate_data():\n",
        "\n",
        "  # Generate 3 years of daily dates\n",
        "  start_date = datetime(2022, 1, 1)\n",
        "  end_date = datetime(2025, 1, 1)\n",
        "  dates = pd.date_range(start=start_date, end=end_date, freq='D')\n",
        "\n",
        "  # Generate random fake data for the specified columns\n",
        "  np.random.seed(42)  # For reproducibility\n",
        "  data = {\n",
        "      \"Date\": dates,\n",
        "      \"XAU BGNL\": np.random.uniform(1700, 2000, len(dates)),  # Gold spot price proxy\n",
        "      \"BDIY\": np.random.uniform(1000, 3000, len(dates)),      # Baltic Dry Index proxy\n",
        "      \"CRY\": np.random.uniform(200, 300, len(dates)),         # Commodity Research Bureau index proxy\n",
        "      \"DXY\": np.random.uniform(90, 110, len(dates)),          # US Dollar Index proxy\n",
        "      \"VIX\": np.random.uniform(15, 40, len(dates)),           # Volatility Index proxy\n",
        "      \"USGG30YR\": np.random.uniform(1.5, 4, len(dates)),      # US 30-year yield proxy\n",
        "      \"GT10\": np.random.uniform(1.0, 3.5, len(dates)),        # US 10-year yield proxy\n",
        "      \"EONIA\": np.random.uniform(-0.5, 0.5, len(dates)),      # Euro Overnight Index Average proxy\n",
        "      \"GTITL30YR\": np.random.uniform(1.0, 4.0, len(dates)),   # Italy 30-year yield proxy\n",
        "      \"GTJPY30YR\": np.random.uniform(0.0, 1.0, len(dates)),   # Japan 30-year yield proxy\n",
        "      \"LP01TREU\": np.random.uniform(100, 150, len(dates)),    # Liquidity premium proxy\n",
        "      \"MXUS\": np.random.uniform(4000, 5000, len(dates)),      # MSCI USA Index proxy\n",
        "      \"MXEU\": np.random.uniform(200, 500, len(dates)),        # MSCI Europe Index proxy\n",
        "      \"MXIN\": np.random.uniform(500, 800, len(dates)),        # MSCI India Index proxy\n",
        "  }\n",
        "\n",
        "  # Create the DataFrame\n",
        "  df = pd.DataFrame(data)\n",
        "\n",
        "  # Save as a CSV file\n",
        "  # file_name = \"fake_financial_data.csv\"\n",
        "  # df.to_csv(file_name, index=False)\n",
        "\n",
        "  # print(f\"File saved as {file_name}\")\n",
        "  return df\n",
        "\n",
        "# Clean the test data and conduct preprocessing\n",
        "\n",
        "def data_cleaning(test_df):\n",
        "\n",
        "  model_features = ['XAU BGNL', 'BDIY', 'CRY', 'DXY', 'VIX', 'USGG30YR', 'GT10', 'EONIA', 'GTITL30YR', 'GTJPY30YR', 'LP01TREU', 'MXUS', 'MXEU', 'MXIN']\n",
        "  # 'GC=F', ^VIX, ^TYX, ^XDE,\n",
        "\n",
        "  # Drop any extra columns not in the model features\n",
        "  test_df = test_df.loc[:, test_df.columns.intersection(model_features)]\n",
        "\n",
        "\n",
        "  # Add missing columns with default value\n",
        "  missing_columns = [col for col in model_features if col not in test_df.columns]\n",
        "\n",
        "  for col in missing_columns:\n",
        "      test_df[col] = 0\n",
        "\n",
        "  # Reorder columns to match model's feature order\n",
        "  test_df = test_df[model_features]\n",
        "\n",
        "  # Remove the date column\n",
        "  if 'Date' in test_df.columns:\n",
        "    test_df = test_df.drop(columns = ['Date'])\n",
        "\n",
        "  # Add additional columns of moving averages and simple moving averages\n",
        "  test_df['VIX_EMA'] = test_df['VIX'].ewm(span=50, adjust=False).mean()\n",
        "  test_df['BDIY_EMA'] = test_df['BDIY'].ewm(span=50, adjust=False).mean()\n",
        "  test_df['DXY_EMA'] = test_df['DXY'].ewm(span=50, adjust=False).mean()\n",
        "  test_df['VIX_MA'] = test_df['VIX'].rolling(window=50).mean()\n",
        "  test_df['BDIY_MA'] = test_df['BDIY'].rolling(window=50).mean()\n",
        "\n",
        "  test_df['VIX_MA'] = test_df['VIX_MA'].fillna(test_df['VIX'])\n",
        "  test_df['BDIY_MA'] = test_df['BDIY_MA'].fillna(test_df['BDIY'])\n",
        "\n",
        "  return test_df\n",
        "\n",
        "\n",
        "def data_preprocessing(test_df, model):\n",
        "\n",
        "  test_df = data_cleaning(test_df)\n",
        "\n",
        "  # Load the scaler saved in pickle file\n",
        "  with open('/content/Market-Anomaly-Detection/data_preprocessors/scaler.pkl', 'rb') as file:\n",
        "    scaler = pickle.load(file)\n",
        "\n",
        "  # Scale the data\n",
        "  test_df_scaled = scaler.fit_transform(test_df)\n",
        "\n",
        "  if model == 'isolation_forest':\n",
        "    # Load the PCA saved in pickle file\n",
        "    with open('/content/Market-Anomaly-Detection/data_preprocessors/pca_isoforest.pkl', 'rb') as file:\n",
        "      pca = pickle.load(file)\n",
        "  else:\n",
        "    # Load PCA\n",
        "    with open('/content/Market-Anomaly-Detection/data_preprocessors/pca.pkl', 'rb') as file:\n",
        "      pca = pickle.load(file)\n",
        "\n",
        "  # Apply PCA\n",
        "  test_df_pca = pca.transform(test_df_scaled)\n",
        "\n",
        "  # Adding raw features(scaled) for better performance\n",
        "  test_df_columns = {name: index for index, name in enumerate(test_df.columns)}\n",
        "  selected_columns = ['VIX', 'VIX_EMA', 'BDIY_EMA', 'DXY_EMA', 'VIX_MA', 'BDIY_MA']\n",
        "  selected_columns_indices = [test_df_columns[col] for col in selected_columns]\n",
        "\n",
        "  test_set = np.hstack((test_df_pca, test_df_scaled[:, selected_columns_indices]))\n",
        "\n",
        "  return test_set\n",
        "\n",
        "\n",
        "def prepare_llm_context(data_copy):\n",
        "  # get the last 20 rows from data_copy to feed into LLM\n",
        "  data = data_copy.tail(20)\n",
        "\n",
        "  data_llm = []\n",
        "  # preprocess each row in data make it into a string\n",
        "  for index, row in data.iterrows():\n",
        "    data_llm.append([f\"{row['Date']} had the these market values: XAU BGNL: {row['XAU BGNL']:.3f}, BDIY: {row['BDIY']:.3f}, CRY: {row['CRY']:.3f}, DXY: {row['DXY']:.3f}, VIX: {row['VIX']:.3f}, USGG30YR: {row['USGG30YR']:.3f}, GT10: {row['GT10']:.3f}, EONIA: {row['EONIA']:.3f}, GTITL30YR: {row['GTITL30YR']:.3f}, GTJPY30YR: {row['GTJPY30YR']:.3f}, LP01TREU: {row['LP01TREU']:.3f}, MXUS: {row['MXUS']:.3f}, MXEU: {row['MXEU']:.3f}, MXIN: {row['MXIN']:.3f}, Anomaly: {row['Anomaly_ISO']}\"])\n",
        "\n",
        "  llm_data = '\\n'.join(data_llm[row][0] for row in range(len(data_llm)))\n",
        "  return llm_data\n",
        "\n",
        "def chat_bot_response(query):\n",
        "\n",
        "  prompt = f'''You are an expert in Stock markets and have deep knowledge of how to make financial investments.\n",
        "        Your goal is analyze the {llm_data}, understand the market conditions and answer the user query: {query}.\n",
        "        Provide clear advice on what kind of decisions should be made if asked.\n",
        "        Follow this for more context : {strategies} but augment with this better decisions.\n",
        "        '''\n",
        "\n",
        "  model = genai.GenerativeModel(\n",
        "    model_name=\"gemini-2.0-flash-exp\",\n",
        "    generation_config=generation_config,\n",
        "    system_instruction=prompt\n",
        "  )\n",
        "  chat = model.start_chat()\n",
        "\n",
        "  response = chat.send_message(query)\n",
        "  return response.text\n",
        "\n",
        "def response_generator(user_query):\n",
        "    response = chat_bot_response(user_query)\n",
        "    for word in response.split(\"\\n\"):\n",
        "        # Yield each part, ensuring newlines are preserved and streaming happens\n",
        "        yield word + \"\\n\"\n",
        "        time.sleep(0.05)\n",
        "\n",
        "# Main UI\n",
        "st.title(\"Odd One Out\")\n",
        "st.write(\"Anomaly Detection in Financial Markets\")\n",
        "\n",
        "sim_data = generate_data()\n",
        "\n",
        "data_copy = sim_data.copy()\n",
        "#fill anomaly iso column with 0\n",
        "data_copy = data_copy.assign(Anomaly_ISO='')\n",
        "ml_models = [\"Isolation Forest\", \"SVM\", \"Voting Classifier\"]\n",
        "\n",
        "model = st.selectbox(\"Find the Odd Ones Out using:\", [\"Select a model\"] + ml_models)\n",
        "\n",
        "if model == \"Isolation Forest\":\n",
        "  with open('/content/Market-Anomaly-Detection/trained_models/isoforest_model.pkl', 'rb') as file:\n",
        "    isoforest_model = pickle.load(file)\n",
        "  test_df = data_preprocessing(sim_data, 'isolation_forest')\n",
        "\n",
        "  isoforest_predictions = isoforest_model.predict(test_df)\n",
        "\n",
        "  data_copy['Anomaly_ISO'] = isoforest_predictions > 0\n",
        "  data_copy['Anomaly_ISO'] = data_copy['Anomaly_ISO'].astype(int)\n",
        "\n",
        "elif model == \"SVM\":\n",
        "  with open('/content/Market-Anomaly-Detection/trained_models/svm_model.pkl', 'rb') as file:\n",
        "    svm_model = pickle.load(file)\n",
        "  test_df = data_preprocessing(sim_data, 'svm')\n",
        "  svm_predictions = svm_model.predict(test_df)\n",
        "  data_copy['Anomaly_ISO'] = svm_predictions > 0\n",
        "  data_copy['Anomaly_ISO'] = data_copy['Anomaly_ISO'].astype(int)\n",
        "\n",
        "\n",
        "\n",
        "elif model == \"Voting Classifier\":\n",
        "  with open('/content/Market-Anomaly-Detection/trained_models/voting_clf_model.pkl', 'rb') as file:\n",
        "    voting_clf = pickle.load(file)\n",
        "\n",
        "  test_df = data_preprocessing(sim_data, 'voting')\n",
        "  voting_predictions = voting_clf.predict(test_df)\n",
        "  data_copy['Anomaly_ISO'] = voting_predictions > 0\n",
        "  data_copy['Anomaly_ISO'] = data_copy['Anomaly_ISO'].astype(int)\n",
        "\n",
        "st.write(\"Results:\")\n",
        "\n",
        "\n",
        "\n",
        "\n",
        "st.divider()\n",
        "\n",
        "\n",
        "llm_data = prepare_llm_context(data_copy)\n",
        "\n",
        "\n",
        "# Initialize messsages in session state\n",
        "if \"messages\" not in st.session_state:\n",
        "    st.session_state.messages = []\n",
        "\n",
        "# Display chat messages\n",
        "for message in st.session_state.messages:\n",
        "    with st.chat_message(message[\"role\"]):\n",
        "        st.markdown(message[\"content\"])\n",
        "\n",
        "# Handle new user input\n",
        "if user_query := st.chat_input(\"Ask a question about the market condition\"):\n",
        "    # Save the user message\n",
        "    st.session_state.messages.append({\"role\": \"user\", \"content\": user_query})\n",
        "    with st.chat_message(\"user\"):\n",
        "        st.markdown(user_query)\n",
        "\n",
        "    with st.chat_message(\"assistant\"):\n",
        "        # stream = response_generator(prompt, selected_repo)\n",
        "        response = st.write_stream(response_generator(user_query))\n",
        "    # Add assistant response to chat history\n",
        "    st.session_state.messages.append({\"role\": \"assistant\", \"content\": response})\n",
        "\n",
        "\n",
        "\n"
      ],
      "metadata": {
        "colab": {
          "base_uri": "https://localhost:8080/"
        },
        "id": "tuJnV6mgxgti",
        "outputId": "98afb01b-0baa-45ee-d4a7-b13826134152"
      },
      "execution_count": 62,
      "outputs": [
        {
          "output_type": "stream",
          "name": "stdout",
          "text": [
            "Overwriting app.py\n"
          ]
        }
      ]
    },
    {
      "cell_type": "code",
      "source": [
        "# allow streamlit ot run concurrently with other tasks\n",
        "thread = Thread(target=run_streamlit)\n",
        "thread.start()"
      ],
      "metadata": {
        "id": "unKDqwMqyAxJ"
      },
      "execution_count": 63,
      "outputs": []
    },
    {
      "cell_type": "code",
      "source": [
        "public_url = ngrok.connect(addr = '8501', proto=\"http\", bind_tls = True)\n",
        "print(\"Public URL: \", public_url)"
      ],
      "metadata": {
        "colab": {
          "base_uri": "https://localhost:8080/"
        },
        "id": "X0_rFSUmyE2q",
        "outputId": "556826bc-168c-49a2-9c4e-be8484e95334"
      },
      "execution_count": 64,
      "outputs": [
        {
          "output_type": "stream",
          "name": "stdout",
          "text": [
            "Public URL:  NgrokTunnel: \"https://ab7c-35-245-24-198.ngrok-free.app\" -> \"http://localhost:8501\"\n"
          ]
        }
      ]
    },
    {
      "cell_type": "code",
      "source": [
        "tunnels = ngrok.get_tunnels()\n",
        "for tunnel in tunnels:\n",
        "  print(f\"Closing tunnel: {tunnel.public_url} -> {tunnel.config['addr']}\")\n",
        "  ngrok.disconnect(tunnel.public_url)"
      ],
      "metadata": {
        "colab": {
          "base_uri": "https://localhost:8080/"
        },
        "id": "1Pw-lyBTyFn0",
        "outputId": "04a3717c-137f-433e-ce81-d6dd33425407"
      },
      "execution_count": 56,
      "outputs": [
        {
          "output_type": "stream",
          "name": "stderr",
          "text": [
            "WARNING:pyngrok.process.ngrok:t=2025-01-20T08:48:20+0000 lvl=warn msg=\"Stopping forwarder\" name=http-8501-a0fa226a-16fe-4a2d-987c-4294cf3eb998 acceptErr=\"failed to accept connection: Listener closed\"\n",
            "WARNING:pyngrok.process.ngrok:t=2025-01-20T08:48:20+0000 lvl=warn msg=\"Stopping forwarder\" name=http-8501-b54579b3-68af-46eb-8822-1f81bdfbc1a7 acceptErr=\"failed to accept connection: Listener closed\"\n",
            "WARNING:pyngrok.process.ngrok:t=2025-01-20T08:48:20+0000 lvl=warn msg=\"Stopping forwarder\" name=http-8501-154857d2-5682-43f6-bbb8-4136041c6314 acceptErr=\"failed to accept connection: Listener closed\"\n"
          ]
        },
        {
          "output_type": "stream",
          "name": "stdout",
          "text": [
            "Closing tunnel: https://521c-35-245-24-198.ngrok-free.app -> http://localhost:8501\n",
            "Closing tunnel: https://8522-35-245-24-198.ngrok-free.app -> http://localhost:8501\n",
            "Closing tunnel: https://12a0-35-245-24-198.ngrok-free.app -> http://localhost:8501\n"
          ]
        }
      ]
    },
    {
      "cell_type": "code",
      "source": [
        "%%writefile .gitignore\n",
        ".env"
      ],
      "metadata": {
        "colab": {
          "base_uri": "https://localhost:8080/"
        },
        "id": "NFdmoeTw1AL2",
        "outputId": "8a1c5e18-bc5c-4f02-a10a-c2789d1b13bc"
      },
      "execution_count": 37,
      "outputs": [
        {
          "output_type": "stream",
          "name": "stdout",
          "text": [
            "Overwriting .gitignore\n"
          ]
        }
      ]
    }
  ]
}