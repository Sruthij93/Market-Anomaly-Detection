{
  "nbformat": 4,
  "nbformat_minor": 0,
  "metadata": {
    "colab": {
      "provenance": [],
      "authorship_tag": "ABX9TyNYwCCn6KP8kEZNkskCSkVi",
      "include_colab_link": true
    },
    "kernelspec": {
      "name": "python3",
      "display_name": "Python 3"
    },
    "language_info": {
      "name": "python"
    }
  },
  "cells": [
    {
      "cell_type": "markdown",
      "metadata": {
        "id": "view-in-github",
        "colab_type": "text"
      },
      "source": [
        "<a href=\"https://colab.research.google.com/github/Sruthij93/Market-Anomaly-Detection/blob/main/Market_Anomaly_Milestone2.ipynb\" target=\"_parent\"><img src=\"https://colab.research.google.com/assets/colab-badge.svg\" alt=\"Open In Colab\"/></a>"
      ]
    },
    {
      "cell_type": "code",
      "source": [
        "import pandas as pd\n",
        "import numpy as np\n",
        "import pickle\n",
        "import shap\n",
        "import pickle\n",
        "from sklearn.model_selection import train_test_split\n",
        "from sklearn.linear_model import LogisticRegression\n",
        "from sklearn.ensemble import IsolationForest\n",
        "from imblearn.over_sampling import SMOTE\n",
        "from sklearn.metrics import classification_report, accuracy_score\n",
        "from sklearn.preprocessing import StandardScaler\n",
        "from sklearn.decomposition import PCA\n",
        "import matplotlib.pyplot as plt\n",
        "import seaborn as sns"
      ],
      "metadata": {
        "id": "LOGZwIq6W-nL"
      },
      "execution_count": 1,
      "outputs": []
    },
    {
      "cell_type": "code",
      "source": [
        "import xgboost as xgb\n",
        "from sklearn.model_selection import GridSearchCV"
      ],
      "metadata": {
        "id": "GjNe0eYeXcbL"
      },
      "execution_count": 2,
      "outputs": []
    },
    {
      "cell_type": "code",
      "source": [
        "from sklearn.metrics import roc_auc_score, roc_curve, auc\n",
        "from sklearn.ensemble import VotingClassifier\n",
        "from sklearn.svm import SVC\n",
        "from sklearn.ensemble import RandomForestClassifier"
      ],
      "metadata": {
        "id": "i3SuWQFRXKJ6"
      },
      "execution_count": 3,
      "outputs": []
    },
    {
      "cell_type": "code",
      "source": [
        "!git clone https://github.com/Sruthij93/Market-Anomaly-Detection"
      ],
      "metadata": {
        "colab": {
          "base_uri": "https://localhost:8080/"
        },
        "id": "umNc07l3LPCl",
        "outputId": "b612980f-c9e7-4489-efc3-0cdcdaf60fee"
      },
      "execution_count": 4,
      "outputs": [
        {
          "output_type": "stream",
          "name": "stdout",
          "text": [
            "Cloning into 'Market-Anomaly-Detection'...\n",
            "remote: Enumerating objects: 82, done.\u001b[K\n",
            "remote: Counting objects: 100% (82/82), done.\u001b[K\n",
            "remote: Compressing objects: 100% (62/62), done.\u001b[K\n",
            "remote: Total 82 (delta 39), reused 48 (delta 18), pack-reused 0 (from 0)\u001b[K\n",
            "Receiving objects: 100% (82/82), 10.35 MiB | 13.14 MiB/s, done.\n",
            "Resolving deltas: 100% (39/39), done.\n"
          ]
        }
      ]
    },
    {
      "cell_type": "code",
      "source": [
        "%cd /content/Market-Anomaly-Detection"
      ],
      "metadata": {
        "colab": {
          "base_uri": "https://localhost:8080/"
        },
        "id": "5D2NgpMwLTYu",
        "outputId": "8c73aa91-fdbe-4798-a839-a9e00a2237ff"
      },
      "execution_count": 5,
      "outputs": [
        {
          "output_type": "stream",
          "name": "stdout",
          "text": [
            "/content/Market-Anomaly-Detection\n"
          ]
        }
      ]
    },
    {
      "cell_type": "code",
      "execution_count": 6,
      "metadata": {
        "id": "WIlgz0kkWUF1"
      },
      "outputs": [],
      "source": [
        "sim_data = pd.read_csv('/content/Market-Anomaly-Detection/sim_financial_data.csv')"
      ]
    },
    {
      "cell_type": "code",
      "source": [
        "# Clean the test data and conduct preprocessing\n",
        "\n",
        "def data_cleaning(test_df):\n",
        "\n",
        "  model_features = ['XAU BGNL', 'BDIY', 'CRY', 'DXY', 'VIX', 'USGG30YR', 'GT10', 'EONIA', 'GTITL30YR', 'GTJPY30YR', 'LP01TREU', 'MXUS', 'MXEU', 'MXIN']\n",
        "\n",
        "  # Drop any extra columns not in the model features\n",
        "  test_df = test_df.loc[:, test_df.columns.intersection(model_features)]\n",
        "\n",
        "\n",
        "  # Add missing columns with default value\n",
        "  missing_columns = [col for col in model_features if col not in test_df.columns]\n",
        "\n",
        "  for col in missing_columns:\n",
        "      test_df[col] = 0\n",
        "\n",
        "  # Reorder columns to match model's feature order\n",
        "  test_df = test_df[model_features]\n",
        "\n",
        "  # Remove the date column\n",
        "  if 'Date' in test_df.columns:\n",
        "    test_df = test_df.drop(columns = ['Date'])\n",
        "\n",
        "  # Add additional columns of moving averages and simple moving averages\n",
        "  test_df['VIX_EMA'] = test_df['VIX'].ewm(span=50, adjust=False).mean()\n",
        "  test_df['BDIY_EMA'] = test_df['BDIY'].ewm(span=50, adjust=False).mean()\n",
        "  test_df['DXY_EMA'] = test_df['DXY'].ewm(span=50, adjust=False).mean()\n",
        "  test_df['VIX_MA'] = test_df['VIX'].rolling(window=50).mean()\n",
        "  test_df['BDIY_MA'] = test_df['BDIY'].rolling(window=50).mean()\n",
        "\n",
        "  test_df['VIX_MA'] = test_df['VIX_MA'].fillna(test_df['VIX'])\n",
        "  test_df['BDIY_MA'] = test_df['BDIY_MA'].fillna(test_df['BDIY'])\n",
        "\n",
        "  return test_df\n",
        "\n",
        "\n",
        "def data_preprocessing(test_df, model):\n",
        "\n",
        "  test_df = data_cleaning(test_df)\n",
        "\n",
        "  # Load the scaler saved in pickle file\n",
        "  with open('/content/Market-Anomaly-Detection/scaler.pkl', 'rb') as file:\n",
        "    scaler = pickle.load(file)\n",
        "\n",
        "  # Scale the data\n",
        "  test_df_scaled = scaler.fit_transform(test_df)\n",
        "\n",
        "  if model == 'isolation_forest':\n",
        "    # Load the PCA saved in pickle file\n",
        "    with open('/content/Market-Anomaly-Detection/pca_isoforest.pkl', 'rb') as file:\n",
        "      pca = pickle.load(file)\n",
        "  else:\n",
        "    # Load PCA\n",
        "    with open('/content/Market-Anomaly-Detection/pca.pkl', 'rb') as file:\n",
        "      pca = pickle.load(file)\n",
        "\n",
        "  # Apply PCA\n",
        "  test_df_pca = pca.transform(test_df_scaled)\n",
        "\n",
        "  # Adding raw features(scaled) for better performance\n",
        "  test_df_columns = {name: index for index, name in enumerate(test_df.columns)}\n",
        "  selected_columns = ['VIX', 'VIX_EMA', 'BDIY_EMA', 'DXY_EMA', 'VIX_MA', 'BDIY_MA']\n",
        "  selected_columns_indices = [test_df_columns[col] for col in selected_columns]\n",
        "\n",
        "  test_set = np.hstack((test_df_pca, test_df_scaled[:, selected_columns_indices]))\n",
        "\n",
        "  return test_set\n",
        "\n",
        "\n"
      ],
      "metadata": {
        "id": "pwiRbaxqW2nM"
      },
      "execution_count": 15,
      "outputs": []
    },
    {
      "cell_type": "code",
      "source": [
        "# Test the Isolation Forest model\n",
        "# sim_data = sim_data.to_frame().T\n",
        "test_df = data_preprocessing(sim_data, 'isolation_forest')\n",
        "\n",
        "with open('/content/Market-Anomaly-Detection/isoforest_model.pkl', 'rb') as file:\n",
        "  isoforest_model = pickle.load(file)\n",
        "\n",
        "isoforest_predictions = isoforest_model.predict(test_df)\n",
        "\n",
        "# Print the anomaly score for each row and add anomaly label column to a copy of test_df\n",
        "isoforest_scores = isoforest_model.score_samples(test_df)\n",
        "data_copy = sim_data.copy()\n",
        "data_copy['isoforest_predictions'] = isoforest_scores\n"
      ],
      "metadata": {
        "colab": {
          "base_uri": "https://localhost:8080/"
        },
        "collapsed": true,
        "id": "3Tosofs8W5uw",
        "outputId": "fbd0448a-0c63-4885-ff54-39006404d59a"
      },
      "execution_count": 10,
      "outputs": [
        {
          "output_type": "stream",
          "name": "stderr",
          "text": [
            "/usr/local/lib/python3.10/dist-packages/sklearn/base.py:380: InconsistentVersionWarning: Trying to unpickle estimator StandardScaler from version 1.5.2 when using version 1.6.0. This might lead to breaking code or invalid results. Use at your own risk. For more info please refer to:\n",
            "https://scikit-learn.org/stable/model_persistence.html#security-maintainability-limitations\n",
            "  warnings.warn(\n",
            "/usr/local/lib/python3.10/dist-packages/sklearn/base.py:380: InconsistentVersionWarning: Trying to unpickle estimator PCA from version 1.5.2 when using version 1.6.0. This might lead to breaking code or invalid results. Use at your own risk. For more info please refer to:\n",
            "https://scikit-learn.org/stable/model_persistence.html#security-maintainability-limitations\n",
            "  warnings.warn(\n",
            "/usr/local/lib/python3.10/dist-packages/sklearn/base.py:380: InconsistentVersionWarning: Trying to unpickle estimator ExtraTreeRegressor from version 1.5.2 when using version 1.6.0. This might lead to breaking code or invalid results. Use at your own risk. For more info please refer to:\n",
            "https://scikit-learn.org/stable/model_persistence.html#security-maintainability-limitations\n",
            "  warnings.warn(\n",
            "/usr/local/lib/python3.10/dist-packages/sklearn/base.py:380: InconsistentVersionWarning: Trying to unpickle estimator IsolationForest from version 1.5.2 when using version 1.6.0. This might lead to breaking code or invalid results. Use at your own risk. For more info please refer to:\n",
            "https://scikit-learn.org/stable/model_persistence.html#security-maintainability-limitations\n",
            "  warnings.warn(\n"
          ]
        }
      ]
    },
    {
      "cell_type": "code",
      "source": [
        "# Test the SVM model\n",
        "with open('/content/Market-Anomaly-Detection/svm_model.pkl', 'rb') as file:\n",
        "  svm_model = pickle.load(file)\n",
        "\n",
        "test_df = data_preprocessing(sim_data, 'svm')\n",
        "svm_predictions = svm_model.predict(test_df)\n"
      ],
      "metadata": {
        "colab": {
          "base_uri": "https://localhost:8080/"
        },
        "collapsed": true,
        "id": "VGEJ8eRKhMuH",
        "outputId": "cc7acb71-5076-430e-936c-e4c116244ed3"
      },
      "execution_count": 12,
      "outputs": [
        {
          "output_type": "stream",
          "name": "stderr",
          "text": [
            "/usr/local/lib/python3.10/dist-packages/sklearn/base.py:380: InconsistentVersionWarning: Trying to unpickle estimator SVC from version 1.5.2 when using version 1.6.0. This might lead to breaking code or invalid results. Use at your own risk. For more info please refer to:\n",
            "https://scikit-learn.org/stable/model_persistence.html#security-maintainability-limitations\n",
            "  warnings.warn(\n",
            "/usr/local/lib/python3.10/dist-packages/sklearn/base.py:380: InconsistentVersionWarning: Trying to unpickle estimator StandardScaler from version 1.5.2 when using version 1.6.0. This might lead to breaking code or invalid results. Use at your own risk. For more info please refer to:\n",
            "https://scikit-learn.org/stable/model_persistence.html#security-maintainability-limitations\n",
            "  warnings.warn(\n",
            "/usr/local/lib/python3.10/dist-packages/sklearn/base.py:380: InconsistentVersionWarning: Trying to unpickle estimator PCA from version 1.5.2 when using version 1.6.0. This might lead to breaking code or invalid results. Use at your own risk. For more info please refer to:\n",
            "https://scikit-learn.org/stable/model_persistence.html#security-maintainability-limitations\n",
            "  warnings.warn(\n"
          ]
        }
      ]
    },
    {
      "cell_type": "code",
      "source": [
        "# Test the Voting classifier model\n",
        "with open('/content/Market-Anomaly-Detection/voting_clf_model.pkl', 'rb') as file:\n",
        "  voting_clf = pickle.load(file)\n",
        "\n",
        "test_df = data_preprocessing(sim_data, 'voting')\n",
        "voting_predictions = voting_clf.predict(test_df)"
      ],
      "metadata": {
        "colab": {
          "base_uri": "https://localhost:8080/"
        },
        "collapsed": true,
        "id": "m9IDhW40iHy-",
        "outputId": "3cf9a87a-214a-4bc3-96bd-aac86d88e8a4"
      },
      "execution_count": 16,
      "outputs": [
        {
          "output_type": "stream",
          "name": "stderr",
          "text": [
            "/usr/local/lib/python3.10/dist-packages/sklearn/base.py:380: InconsistentVersionWarning: Trying to unpickle estimator DecisionTreeClassifier from version 1.5.2 when using version 1.6.0. This might lead to breaking code or invalid results. Use at your own risk. For more info please refer to:\n",
            "https://scikit-learn.org/stable/model_persistence.html#security-maintainability-limitations\n",
            "  warnings.warn(\n",
            "/usr/local/lib/python3.10/dist-packages/sklearn/base.py:380: InconsistentVersionWarning: Trying to unpickle estimator RandomForestClassifier from version 1.5.2 when using version 1.6.0. This might lead to breaking code or invalid results. Use at your own risk. For more info please refer to:\n",
            "https://scikit-learn.org/stable/model_persistence.html#security-maintainability-limitations\n",
            "  warnings.warn(\n",
            "/usr/local/lib/python3.10/dist-packages/sklearn/base.py:380: InconsistentVersionWarning: Trying to unpickle estimator SVC from version 1.5.2 when using version 1.6.0. This might lead to breaking code or invalid results. Use at your own risk. For more info please refer to:\n",
            "https://scikit-learn.org/stable/model_persistence.html#security-maintainability-limitations\n",
            "  warnings.warn(\n",
            "/usr/local/lib/python3.10/dist-packages/sklearn/base.py:380: InconsistentVersionWarning: Trying to unpickle estimator LabelEncoder from version 1.5.2 when using version 1.6.0. This might lead to breaking code or invalid results. Use at your own risk. For more info please refer to:\n",
            "https://scikit-learn.org/stable/model_persistence.html#security-maintainability-limitations\n",
            "  warnings.warn(\n",
            "/usr/local/lib/python3.10/dist-packages/sklearn/base.py:380: InconsistentVersionWarning: Trying to unpickle estimator VotingClassifier from version 1.5.2 when using version 1.6.0. This might lead to breaking code or invalid results. Use at your own risk. For more info please refer to:\n",
            "https://scikit-learn.org/stable/model_persistence.html#security-maintainability-limitations\n",
            "  warnings.warn(\n",
            "/usr/local/lib/python3.10/dist-packages/sklearn/base.py:380: InconsistentVersionWarning: Trying to unpickle estimator StandardScaler from version 1.5.2 when using version 1.6.0. This might lead to breaking code or invalid results. Use at your own risk. For more info please refer to:\n",
            "https://scikit-learn.org/stable/model_persistence.html#security-maintainability-limitations\n",
            "  warnings.warn(\n",
            "/usr/local/lib/python3.10/dist-packages/sklearn/base.py:380: InconsistentVersionWarning: Trying to unpickle estimator PCA from version 1.5.2 when using version 1.6.0. This might lead to breaking code or invalid results. Use at your own risk. For more info please refer to:\n",
            "https://scikit-learn.org/stable/model_persistence.html#security-maintainability-limitations\n",
            "  warnings.warn(\n",
            "/usr/local/lib/python3.10/dist-packages/sklearn/utils/_tags.py:354: FutureWarning: The XGBClassifier or classes from which it inherits use `_get_tags` and `_more_tags`. Please define the `__sklearn_tags__` method, or inherit from `sklearn.base.BaseEstimator` and/or other appropriate mixins such as `sklearn.base.TransformerMixin`, `sklearn.base.ClassifierMixin`, `sklearn.base.RegressorMixin`, and `sklearn.base.OutlierMixin`. From scikit-learn 1.7, not defining `__sklearn_tags__` will raise an error.\n",
            "  warnings.warn(\n"
          ]
        }
      ]
    },
    {
      "cell_type": "code",
      "source": [
        "voting_predictions= voting_predictions.reshape(-1,1)"
      ],
      "metadata": {
        "id": "hkUGY_yvrFHw"
      },
      "execution_count": 14,
      "outputs": []
    }
  ]
}